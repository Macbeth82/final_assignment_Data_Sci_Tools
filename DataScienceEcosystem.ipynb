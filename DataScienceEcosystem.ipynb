{
 "cells": [
  {
   "cell_type": "markdown",
   "id": "137afe02",
   "metadata": {},
   "source": [
    "<H1><center>Data Science Tools and Ecosystem</center></H1>"
   ]
  },
  {
   "cell_type": "markdown",
   "id": "30594f5a",
   "metadata": {},
   "source": [
    "This is my first Jupyter Notebook, I usually write code in vsCode or Pycharm. This is a notebook about Data Science Tools"
   ]
  },
  {
   "cell_type": "markdown",
   "id": "d40da888",
   "metadata": {},
   "source": [
    "Some of the popular languages that Data Scientists use are:\n",
    "\n",
    "1. Python\n",
    "2. R\n",
    "3. SQL\n",
    "4. Scala\n",
    "5. Java\n",
    "6. C++\n",
    "7. Julia"
   ]
  },
  {
   "cell_type": "markdown",
   "id": "abbe20cc",
   "metadata": {},
   "source": [
    "Some of the commonly used libraries used by Data Scientists include:"
   ]
  },
  {
   "cell_type": "markdown",
   "id": "0ae1781e",
   "metadata": {},
   "source": [
    "1. Pandas\n",
    "2. Numpy\n",
    "3. SciPy\n",
    "4. Matplotlib"
   ]
  },
  {
   "cell_type": "markdown",
   "id": "722bb4d4",
   "metadata": {},
   "source": [
    "<table>\n",
    "  <tr>\n",
    "    <th>Data Science Tools</th>\n",
    "  </tr>\n",
    "  <tr>\n",
    "    <td><center>Jupyter Lab</center></td>\n",
    "  </tr>\n",
    "  <tr>\n",
    "    <td><center>RStudio</center></td>\n",
    "  </tr>\n",
    "  <tr>\n",
    "    <td><center>Spyder</center></td>\n",
    "  </tr>\n",
    "</table>"
   ]
  },
  {
   "cell_type": "markdown",
   "id": "8dde4e85",
   "metadata": {},
   "source": [
    "<H3>Below are a few examples of evaluating arithmetic expressions in Python</H3>"
   ]
  },
  {
   "cell_type": "code",
   "execution_count": 15,
   "id": "0f38fef3",
   "metadata": {},
   "outputs": [
    {
     "data": {
      "text/plain": [
       "17"
      ]
     },
     "execution_count": 15,
     "metadata": {},
     "output_type": "execute_result"
    }
   ],
   "source": [
    "# This a simple arithmetic expression to mutiply then add integers\n",
    "\n",
    "(3*4)+5"
   ]
  },
  {
   "cell_type": "code",
   "execution_count": 16,
   "id": "60eaff87",
   "metadata": {},
   "outputs": [
    {
     "name": "stdout",
     "output_type": "stream",
     "text": [
      "Minuts: 200 hours: 3.3333333333333335\n"
     ]
    }
   ],
   "source": [
    "# This will convert 200 minutes to hours by diving by 60\n",
    "\n",
    "minuts = 200\n",
    "hours = minuts / 60\n",
    "print (f'Minuts: {minuts} hours: {hours}')"
   ]
  },
  {
   "cell_type": "markdown",
   "id": "8cdefa43",
   "metadata": {},
   "source": [
    "<b>Objectives:</b>\n",
    "<br></br>\n",
    "\n",
    "<li>List popular languages for Data Science</li>\n",
    "<li>List popular libraries used by Data Scientists</li>\n",
    "<li>List open source tools (IDE) for Data Science</li>\n",
    "<li>Use arithmetic expressions</li>\n",
    "<li>Use comments on the code</li>\n"
   ]
  },
  {
   "cell_type": "markdown",
   "id": "ae96ef21",
   "metadata": {},
   "source": [
    "<H2>Author</H2>\n",
    "\n",
    "Roger Ríos Rojas"
   ]
  },
  {
   "cell_type": "code",
   "execution_count": null,
   "id": "fed40539",
   "metadata": {},
   "outputs": [],
   "source": []
  }
 ],
 "metadata": {
  "kernelspec": {
   "display_name": "Python 3 (ipykernel)",
   "language": "python",
   "name": "python3"
  },
  "language_info": {
   "codemirror_mode": {
    "name": "ipython",
    "version": 3
   },
   "file_extension": ".py",
   "mimetype": "text/x-python",
   "name": "python",
   "nbconvert_exporter": "python",
   "pygments_lexer": "ipython3",
   "version": "3.9.7"
  }
 },
 "nbformat": 4,
 "nbformat_minor": 5
}
